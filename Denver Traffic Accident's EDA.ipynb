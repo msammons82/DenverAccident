{
 "cells": [
  {
   "cell_type": "code",
   "execution_count": 1,
   "id": "1fef6672",
   "metadata": {},
   "outputs": [],
   "source": [
    "import numpy as np\n",
    "import pandas as pd\n",
    "import matplotlib.pyplot as plt\n",
    "import seaborn as sns\n",
    "import plotly.express as px\n",
    "from datetime import datetime"
   ]
  },
  {
   "cell_type": "code",
   "execution_count": 2,
   "id": "b4d79ba5",
   "metadata": {},
   "outputs": [
    {
     "name": "stderr",
     "output_type": "stream",
     "text": [
      "/tmp/ipykernel_9997/4282424767.py:1: DtypeWarning: Columns (14) have mixed types. Specify dtype option on import or set low_memory=False.\n",
      "  df = pd.read_csv('traffic_accidents.csv')\n"
     ]
    }
   ],
   "source": [
    "df = pd.read_csv('traffic_accidents.csv')"
   ]
  },
  {
   "cell_type": "code",
   "execution_count": 3,
   "id": "67d03edb",
   "metadata": {},
   "outputs": [
    {
     "data": {
      "text/html": [
       "<div>\n",
       "<style scoped>\n",
       "    .dataframe tbody tr th:only-of-type {\n",
       "        vertical-align: middle;\n",
       "    }\n",
       "\n",
       "    .dataframe tbody tr th {\n",
       "        vertical-align: top;\n",
       "    }\n",
       "\n",
       "    .dataframe thead th {\n",
       "        text-align: right;\n",
       "    }\n",
       "</style>\n",
       "<table border=\"1\" class=\"dataframe\">\n",
       "  <thead>\n",
       "    <tr style=\"text-align: right;\">\n",
       "      <th></th>\n",
       "      <th>shape</th>\n",
       "      <th>incident_id</th>\n",
       "      <th>offense_id</th>\n",
       "      <th>offense_code</th>\n",
       "      <th>offense_code_extension</th>\n",
       "      <th>top_traffic_accident_offense</th>\n",
       "      <th>first_occurrence_date</th>\n",
       "      <th>last_occurrence_date</th>\n",
       "      <th>reported_date</th>\n",
       "      <th>incident_address</th>\n",
       "      <th>...</th>\n",
       "      <th>TU2_DRIVER_HUMANCONTRIBFACTOR</th>\n",
       "      <th>TU2_PEDESTRIAN_ACTION</th>\n",
       "      <th>SERIOUSLY_INJURED</th>\n",
       "      <th>FATALITIES</th>\n",
       "      <th>FATALITY_MODE_1</th>\n",
       "      <th>FATALITY_MODE_2</th>\n",
       "      <th>SERIOUSLY_INJURED_MODE_1</th>\n",
       "      <th>SERIOUSLY_INJURED_MODE_2</th>\n",
       "      <th>POINT_X</th>\n",
       "      <th>POINT_Y</th>\n",
       "    </tr>\n",
       "  </thead>\n",
       "  <tbody>\n",
       "    <tr>\n",
       "      <th>0</th>\n",
       "      <td>&lt;geoprocessing describe geometry object object...</td>\n",
       "      <td>202215079.0</td>\n",
       "      <td>20221507954410</td>\n",
       "      <td>5441.0</td>\n",
       "      <td>0.0</td>\n",
       "      <td>TRAF - ACCIDENT</td>\n",
       "      <td>2022-01-10 17:00:00</td>\n",
       "      <td>2022-01-10 17:00:00</td>\n",
       "      <td>2022-01-10 17:02:00</td>\n",
       "      <td>8800 BLOCK E MLK BLVD</td>\n",
       "      <td>...</td>\n",
       "      <td>OTHER</td>\n",
       "      <td>OTHER</td>\n",
       "      <td>0.0</td>\n",
       "      <td>0.0</td>\n",
       "      <td>OTHER</td>\n",
       "      <td>OTHER</td>\n",
       "      <td>OTHER</td>\n",
       "      <td>OTHER</td>\n",
       "      <td>NaN</td>\n",
       "      <td>NaN</td>\n",
       "    </tr>\n",
       "    <tr>\n",
       "      <th>1</th>\n",
       "      <td>&lt;geoprocessing describe geometry object object...</td>\n",
       "      <td>202245681.0</td>\n",
       "      <td>20224568154010</td>\n",
       "      <td>5401.0</td>\n",
       "      <td>0.0</td>\n",
       "      <td>TRAF - ACCIDENT - HIT &amp; RUN</td>\n",
       "      <td>2022-01-27 15:00:00</td>\n",
       "      <td>2022-01-27 15:00:00</td>\n",
       "      <td>2022-01-28 10:44:00</td>\n",
       "      <td>4200 E BRUCE RANDOLPH AVE</td>\n",
       "      <td>...</td>\n",
       "      <td>OTHER</td>\n",
       "      <td>OTHER</td>\n",
       "      <td>0.0</td>\n",
       "      <td>0.0</td>\n",
       "      <td>OTHER</td>\n",
       "      <td>OTHER</td>\n",
       "      <td>OTHER</td>\n",
       "      <td>OTHER</td>\n",
       "      <td>NaN</td>\n",
       "      <td>NaN</td>\n",
       "    </tr>\n",
       "    <tr>\n",
       "      <th>2</th>\n",
       "      <td>&lt;geoprocessing describe geometry object object...</td>\n",
       "      <td>202238410.0</td>\n",
       "      <td>20223841054410</td>\n",
       "      <td>5441.0</td>\n",
       "      <td>0.0</td>\n",
       "      <td>TRAF - ACCIDENT</td>\n",
       "      <td>2022-01-24 07:56:00</td>\n",
       "      <td>2022-01-24 07:56:00</td>\n",
       "      <td>2022-01-24 08:38:00</td>\n",
       "      <td>7900 BLOCK W LAYTON AVE</td>\n",
       "      <td>...</td>\n",
       "      <td>OTHER</td>\n",
       "      <td>OTHER</td>\n",
       "      <td>0.0</td>\n",
       "      <td>0.0</td>\n",
       "      <td>OTHER</td>\n",
       "      <td>OTHER</td>\n",
       "      <td>OTHER</td>\n",
       "      <td>OTHER</td>\n",
       "      <td>NaN</td>\n",
       "      <td>NaN</td>\n",
       "    </tr>\n",
       "    <tr>\n",
       "      <th>3</th>\n",
       "      <td>&lt;geoprocessing describe geometry object object...</td>\n",
       "      <td>202238474.0</td>\n",
       "      <td>20223847454410</td>\n",
       "      <td>5441.0</td>\n",
       "      <td>0.0</td>\n",
       "      <td>TRAF - ACCIDENT</td>\n",
       "      <td>2022-01-24 08:30:00</td>\n",
       "      <td>2022-01-24 08:30:00</td>\n",
       "      <td>2022-01-24 09:14:00</td>\n",
       "      <td>I70 HWYEB / N FEDERAL BLVD</td>\n",
       "      <td>...</td>\n",
       "      <td>OTHER</td>\n",
       "      <td>OTHER</td>\n",
       "      <td>0.0</td>\n",
       "      <td>0.0</td>\n",
       "      <td>OTHER</td>\n",
       "      <td>OTHER</td>\n",
       "      <td>OTHER</td>\n",
       "      <td>OTHER</td>\n",
       "      <td>NaN</td>\n",
       "      <td>NaN</td>\n",
       "    </tr>\n",
       "    <tr>\n",
       "      <th>4</th>\n",
       "      <td>&lt;geoprocessing describe geometry object object...</td>\n",
       "      <td>202238536.0</td>\n",
       "      <td>20223853654010</td>\n",
       "      <td>5401.0</td>\n",
       "      <td>0.0</td>\n",
       "      <td>TRAF - ACCIDENT - HIT &amp; RUN</td>\n",
       "      <td>2022-01-24 09:19:00</td>\n",
       "      <td>2022-01-24 09:19:00</td>\n",
       "      <td>2022-01-24 09:56:00.000001</td>\n",
       "      <td>1001 S PLATTE RIVER DR</td>\n",
       "      <td>...</td>\n",
       "      <td>OTHER</td>\n",
       "      <td>OTHER</td>\n",
       "      <td>0.0</td>\n",
       "      <td>0.0</td>\n",
       "      <td>OTHER</td>\n",
       "      <td>OTHER</td>\n",
       "      <td>OTHER</td>\n",
       "      <td>OTHER</td>\n",
       "      <td>NaN</td>\n",
       "      <td>NaN</td>\n",
       "    </tr>\n",
       "  </tbody>\n",
       "</table>\n",
       "<p>5 rows × 47 columns</p>\n",
       "</div>"
      ],
      "text/plain": [
       "                                               shape  incident_id  \\\n",
       "0  <geoprocessing describe geometry object object...  202215079.0   \n",
       "1  <geoprocessing describe geometry object object...  202245681.0   \n",
       "2  <geoprocessing describe geometry object object...  202238410.0   \n",
       "3  <geoprocessing describe geometry object object...  202238474.0   \n",
       "4  <geoprocessing describe geometry object object...  202238536.0   \n",
       "\n",
       "       offense_id  offense_code  offense_code_extension  \\\n",
       "0  20221507954410        5441.0                     0.0   \n",
       "1  20224568154010        5401.0                     0.0   \n",
       "2  20223841054410        5441.0                     0.0   \n",
       "3  20223847454410        5441.0                     0.0   \n",
       "4  20223853654010        5401.0                     0.0   \n",
       "\n",
       "     top_traffic_accident_offense first_occurrence_date last_occurrence_date  \\\n",
       "0  TRAF - ACCIDENT                  2022-01-10 17:00:00  2022-01-10 17:00:00   \n",
       "1  TRAF - ACCIDENT - HIT & RUN      2022-01-27 15:00:00  2022-01-27 15:00:00   \n",
       "2  TRAF - ACCIDENT                  2022-01-24 07:56:00  2022-01-24 07:56:00   \n",
       "3  TRAF - ACCIDENT                  2022-01-24 08:30:00  2022-01-24 08:30:00   \n",
       "4  TRAF - ACCIDENT - HIT & RUN      2022-01-24 09:19:00  2022-01-24 09:19:00   \n",
       "\n",
       "                reported_date            incident_address  ...  \\\n",
       "0         2022-01-10 17:02:00       8800 BLOCK E MLK BLVD  ...   \n",
       "1         2022-01-28 10:44:00   4200 E BRUCE RANDOLPH AVE  ...   \n",
       "2         2022-01-24 08:38:00     7900 BLOCK W LAYTON AVE  ...   \n",
       "3         2022-01-24 09:14:00  I70 HWYEB / N FEDERAL BLVD  ...   \n",
       "4  2022-01-24 09:56:00.000001      1001 S PLATTE RIVER DR  ...   \n",
       "\n",
       "   TU2_DRIVER_HUMANCONTRIBFACTOR  TU2_PEDESTRIAN_ACTION  SERIOUSLY_INJURED  \\\n",
       "0                          OTHER                  OTHER                0.0   \n",
       "1                          OTHER                  OTHER                0.0   \n",
       "2                          OTHER                  OTHER                0.0   \n",
       "3                          OTHER                  OTHER                0.0   \n",
       "4                          OTHER                  OTHER                0.0   \n",
       "\n",
       "   FATALITIES FATALITY_MODE_1  FATALITY_MODE_2 SERIOUSLY_INJURED_MODE_1  \\\n",
       "0         0.0           OTHER            OTHER                    OTHER   \n",
       "1         0.0           OTHER            OTHER                    OTHER   \n",
       "2         0.0           OTHER            OTHER                    OTHER   \n",
       "3         0.0           OTHER            OTHER                    OTHER   \n",
       "4         0.0           OTHER            OTHER                    OTHER   \n",
       "\n",
       "   SERIOUSLY_INJURED_MODE_2  POINT_X POINT_Y  \n",
       "0                     OTHER      NaN     NaN  \n",
       "1                     OTHER      NaN     NaN  \n",
       "2                     OTHER      NaN     NaN  \n",
       "3                     OTHER      NaN     NaN  \n",
       "4                     OTHER      NaN     NaN  \n",
       "\n",
       "[5 rows x 47 columns]"
      ]
     },
     "execution_count": 3,
     "metadata": {},
     "output_type": "execute_result"
    }
   ],
   "source": [
    "df.head()"
   ]
  },
  {
   "cell_type": "code",
   "execution_count": 4,
   "id": "eeb1658f",
   "metadata": {},
   "outputs": [
    {
     "name": "stdout",
     "output_type": "stream",
     "text": [
      "<class 'pandas.core.frame.DataFrame'>\n",
      "RangeIndex: 209660 entries, 0 to 209659\n",
      "Data columns (total 47 columns):\n",
      " #   Column                         Non-Null Count   Dtype  \n",
      "---  ------                         --------------   -----  \n",
      " 0   shape                          201585 non-null  object \n",
      " 1   incident_id                    209659 non-null  float64\n",
      " 2   offense_id                     209660 non-null  int64  \n",
      " 3   offense_code                   209659 non-null  float64\n",
      " 4   offense_code_extension         209659 non-null  float64\n",
      " 5   top_traffic_accident_offense   209659 non-null  object \n",
      " 6   first_occurrence_date          209659 non-null  object \n",
      " 7   last_occurrence_date           114060 non-null  object \n",
      " 8   reported_date                  209659 non-null  object \n",
      " 9   incident_address               209659 non-null  object \n",
      " 10  geo_x                          201585 non-null  float64\n",
      " 11  geo_y                          201585 non-null  float64\n",
      " 12  geo_lon                        201585 non-null  float64\n",
      " 13  geo_lat                        201585 non-null  float64\n",
      " 14  district_id                    206912 non-null  object \n",
      " 15  precinct_id                    201534 non-null  float64\n",
      " 16  neighborhood_id                199686 non-null  object \n",
      " 17  bicycle_ind                    197219 non-null  float64\n",
      " 18  pedestrian_ind                 197219 non-null  float64\n",
      " 19  HARMFUL_EVENT_SEQ_1            209659 non-null  object \n",
      " 20  HARMFUL_EVENT_SEQ_2            209659 non-null  object \n",
      " 21  HARMFUL_EVENT_SEQ_3            209659 non-null  object \n",
      " 22  road_location                  209659 non-null  object \n",
      " 23  ROAD_DESCRIPTION               209659 non-null  object \n",
      " 24  ROAD_CONTOUR                   209659 non-null  object \n",
      " 25  ROAD_CONDITION                 209659 non-null  object \n",
      " 26  LIGHT_CONDITION                209659 non-null  object \n",
      " 27  TU1_VEHICLE_TYPE               209659 non-null  object \n",
      " 28  TU1_TRAVEL_DIRECTION           209659 non-null  object \n",
      " 29  TU1_VEHICLE_MOVEMENT           209659 non-null  object \n",
      " 30  TU1_DRIVER_ACTION              209659 non-null  object \n",
      " 31  TU1_DRIVER_HUMANCONTRIBFACTOR  209659 non-null  object \n",
      " 32  TU1_PEDESTRIAN_ACTION          209655 non-null  object \n",
      " 33  TU2_VEHICLE_TYPE               209659 non-null  object \n",
      " 34  TU2_TRAVEL_DIRECTION           209659 non-null  object \n",
      " 35  TU2_VEHICLE_MOVEMENT           209659 non-null  object \n",
      " 36  TU2_DRIVER_ACTION              209659 non-null  object \n",
      " 37  TU2_DRIVER_HUMANCONTRIBFACTOR  209659 non-null  object \n",
      " 38  TU2_PEDESTRIAN_ACTION          209657 non-null  object \n",
      " 39  SERIOUSLY_INJURED              209232 non-null  float64\n",
      " 40  FATALITIES                     209232 non-null  float64\n",
      " 41  FATALITY_MODE_1                209659 non-null  object \n",
      " 42  FATALITY_MODE_2                209659 non-null  object \n",
      " 43  SERIOUSLY_INJURED_MODE_1       209659 non-null  object \n",
      " 44  SERIOUSLY_INJURED_MODE_2       209659 non-null  object \n",
      " 45  POINT_X                        0 non-null       float64\n",
      " 46  POINT_Y                        0 non-null       float64\n",
      "dtypes: float64(14), int64(1), object(32)\n",
      "memory usage: 75.2+ MB\n"
     ]
    }
   ],
   "source": [
    "df.info()"
   ]
  },
  {
   "cell_type": "code",
   "execution_count": 5,
   "id": "698cf037",
   "metadata": {},
   "outputs": [
    {
     "data": {
      "text/plain": [
       "shape                              8075\n",
       "incident_id                           1\n",
       "offense_id                            0\n",
       "offense_code                          1\n",
       "offense_code_extension                1\n",
       "top_traffic_accident_offense          1\n",
       "first_occurrence_date                 1\n",
       "last_occurrence_date              95600\n",
       "reported_date                         1\n",
       "incident_address                      1\n",
       "geo_x                              8075\n",
       "geo_y                              8075\n",
       "geo_lon                            8075\n",
       "geo_lat                            8075\n",
       "district_id                        2748\n",
       "precinct_id                        8126\n",
       "neighborhood_id                    9974\n",
       "bicycle_ind                       12441\n",
       "pedestrian_ind                    12441\n",
       "HARMFUL_EVENT_SEQ_1                   1\n",
       "HARMFUL_EVENT_SEQ_2                   1\n",
       "HARMFUL_EVENT_SEQ_3                   1\n",
       "road_location                         1\n",
       "ROAD_DESCRIPTION                      1\n",
       "ROAD_CONTOUR                          1\n",
       "ROAD_CONDITION                        1\n",
       "LIGHT_CONDITION                       1\n",
       "TU1_VEHICLE_TYPE                      1\n",
       "TU1_TRAVEL_DIRECTION                  1\n",
       "TU1_VEHICLE_MOVEMENT                  1\n",
       "TU1_DRIVER_ACTION                     1\n",
       "TU1_DRIVER_HUMANCONTRIBFACTOR         1\n",
       "TU1_PEDESTRIAN_ACTION                 5\n",
       "TU2_VEHICLE_TYPE                      1\n",
       "TU2_TRAVEL_DIRECTION                  1\n",
       "TU2_VEHICLE_MOVEMENT                  1\n",
       "TU2_DRIVER_ACTION                     1\n",
       "TU2_DRIVER_HUMANCONTRIBFACTOR         1\n",
       "TU2_PEDESTRIAN_ACTION                 3\n",
       "SERIOUSLY_INJURED                   428\n",
       "FATALITIES                          428\n",
       "FATALITY_MODE_1                       1\n",
       "FATALITY_MODE_2                       1\n",
       "SERIOUSLY_INJURED_MODE_1              1\n",
       "SERIOUSLY_INJURED_MODE_2              1\n",
       "POINT_X                          209660\n",
       "POINT_Y                          209660\n",
       "dtype: int64"
      ]
     },
     "execution_count": 5,
     "metadata": {},
     "output_type": "execute_result"
    }
   ],
   "source": [
    "df.isnull().sum()"
   ]
  },
  {
   "cell_type": "code",
   "execution_count": null,
   "id": "eed4cab1",
   "metadata": {},
   "outputs": [],
   "source": []
  },
  {
   "cell_type": "code",
   "execution_count": 6,
   "id": "12469adc",
   "metadata": {},
   "outputs": [],
   "source": [
    "df['reported_date']= pd.to_datetime(df['reported_date'])"
   ]
  },
  {
   "cell_type": "code",
   "execution_count": 7,
   "id": "e0b7f732",
   "metadata": {},
   "outputs": [
    {
     "name": "stdout",
     "output_type": "stream",
     "text": [
      "<class 'pandas.core.frame.DataFrame'>\n",
      "RangeIndex: 209660 entries, 0 to 209659\n",
      "Data columns (total 47 columns):\n",
      " #   Column                         Non-Null Count   Dtype         \n",
      "---  ------                         --------------   -----         \n",
      " 0   shape                          201585 non-null  object        \n",
      " 1   incident_id                    209659 non-null  float64       \n",
      " 2   offense_id                     209660 non-null  int64         \n",
      " 3   offense_code                   209659 non-null  float64       \n",
      " 4   offense_code_extension         209659 non-null  float64       \n",
      " 5   top_traffic_accident_offense   209659 non-null  object        \n",
      " 6   first_occurrence_date          209659 non-null  object        \n",
      " 7   last_occurrence_date           114060 non-null  object        \n",
      " 8   reported_date                  209659 non-null  datetime64[ns]\n",
      " 9   incident_address               209659 non-null  object        \n",
      " 10  geo_x                          201585 non-null  float64       \n",
      " 11  geo_y                          201585 non-null  float64       \n",
      " 12  geo_lon                        201585 non-null  float64       \n",
      " 13  geo_lat                        201585 non-null  float64       \n",
      " 14  district_id                    206912 non-null  object        \n",
      " 15  precinct_id                    201534 non-null  float64       \n",
      " 16  neighborhood_id                199686 non-null  object        \n",
      " 17  bicycle_ind                    197219 non-null  float64       \n",
      " 18  pedestrian_ind                 197219 non-null  float64       \n",
      " 19  HARMFUL_EVENT_SEQ_1            209659 non-null  object        \n",
      " 20  HARMFUL_EVENT_SEQ_2            209659 non-null  object        \n",
      " 21  HARMFUL_EVENT_SEQ_3            209659 non-null  object        \n",
      " 22  road_location                  209659 non-null  object        \n",
      " 23  ROAD_DESCRIPTION               209659 non-null  object        \n",
      " 24  ROAD_CONTOUR                   209659 non-null  object        \n",
      " 25  ROAD_CONDITION                 209659 non-null  object        \n",
      " 26  LIGHT_CONDITION                209659 non-null  object        \n",
      " 27  TU1_VEHICLE_TYPE               209659 non-null  object        \n",
      " 28  TU1_TRAVEL_DIRECTION           209659 non-null  object        \n",
      " 29  TU1_VEHICLE_MOVEMENT           209659 non-null  object        \n",
      " 30  TU1_DRIVER_ACTION              209659 non-null  object        \n",
      " 31  TU1_DRIVER_HUMANCONTRIBFACTOR  209659 non-null  object        \n",
      " 32  TU1_PEDESTRIAN_ACTION          209655 non-null  object        \n",
      " 33  TU2_VEHICLE_TYPE               209659 non-null  object        \n",
      " 34  TU2_TRAVEL_DIRECTION           209659 non-null  object        \n",
      " 35  TU2_VEHICLE_MOVEMENT           209659 non-null  object        \n",
      " 36  TU2_DRIVER_ACTION              209659 non-null  object        \n",
      " 37  TU2_DRIVER_HUMANCONTRIBFACTOR  209659 non-null  object        \n",
      " 38  TU2_PEDESTRIAN_ACTION          209657 non-null  object        \n",
      " 39  SERIOUSLY_INJURED              209232 non-null  float64       \n",
      " 40  FATALITIES                     209232 non-null  float64       \n",
      " 41  FATALITY_MODE_1                209659 non-null  object        \n",
      " 42  FATALITY_MODE_2                209659 non-null  object        \n",
      " 43  SERIOUSLY_INJURED_MODE_1       209659 non-null  object        \n",
      " 44  SERIOUSLY_INJURED_MODE_2       209659 non-null  object        \n",
      " 45  POINT_X                        0 non-null       float64       \n",
      " 46  POINT_Y                        0 non-null       float64       \n",
      "dtypes: datetime64[ns](1), float64(14), int64(1), object(31)\n",
      "memory usage: 75.2+ MB\n"
     ]
    }
   ],
   "source": [
    "df.info()"
   ]
  },
  {
   "cell_type": "code",
   "execution_count": 8,
   "id": "664d4379",
   "metadata": {},
   "outputs": [
    {
     "data": {
      "text/html": [
       "<div>\n",
       "<style scoped>\n",
       "    .dataframe tbody tr th:only-of-type {\n",
       "        vertical-align: middle;\n",
       "    }\n",
       "\n",
       "    .dataframe tbody tr th {\n",
       "        vertical-align: top;\n",
       "    }\n",
       "\n",
       "    .dataframe thead th {\n",
       "        text-align: right;\n",
       "    }\n",
       "</style>\n",
       "<table border=\"1\" class=\"dataframe\">\n",
       "  <thead>\n",
       "    <tr style=\"text-align: right;\">\n",
       "      <th></th>\n",
       "      <th>shape</th>\n",
       "      <th>incident_id</th>\n",
       "      <th>offense_id</th>\n",
       "      <th>offense_code</th>\n",
       "      <th>offense_code_extension</th>\n",
       "      <th>top_traffic_accident_offense</th>\n",
       "      <th>first_occurrence_date</th>\n",
       "      <th>last_occurrence_date</th>\n",
       "      <th>reported_date</th>\n",
       "      <th>incident_address</th>\n",
       "      <th>...</th>\n",
       "      <th>TU2_DRIVER_HUMANCONTRIBFACTOR</th>\n",
       "      <th>TU2_PEDESTRIAN_ACTION</th>\n",
       "      <th>SERIOUSLY_INJURED</th>\n",
       "      <th>FATALITIES</th>\n",
       "      <th>FATALITY_MODE_1</th>\n",
       "      <th>FATALITY_MODE_2</th>\n",
       "      <th>SERIOUSLY_INJURED_MODE_1</th>\n",
       "      <th>SERIOUSLY_INJURED_MODE_2</th>\n",
       "      <th>POINT_X</th>\n",
       "      <th>POINT_Y</th>\n",
       "    </tr>\n",
       "  </thead>\n",
       "  <tbody>\n",
       "    <tr>\n",
       "      <th>0</th>\n",
       "      <td>&lt;geoprocessing describe geometry object object...</td>\n",
       "      <td>202215079.0</td>\n",
       "      <td>20221507954410</td>\n",
       "      <td>5441.0</td>\n",
       "      <td>0.0</td>\n",
       "      <td>TRAF - ACCIDENT</td>\n",
       "      <td>2022-01-10 17:00:00</td>\n",
       "      <td>2022-01-10 17:00:00</td>\n",
       "      <td>2022-01-10 17:02:00.000000</td>\n",
       "      <td>8800 BLOCK E MLK BLVD</td>\n",
       "      <td>...</td>\n",
       "      <td>OTHER</td>\n",
       "      <td>OTHER</td>\n",
       "      <td>0.0</td>\n",
       "      <td>0.0</td>\n",
       "      <td>OTHER</td>\n",
       "      <td>OTHER</td>\n",
       "      <td>OTHER</td>\n",
       "      <td>OTHER</td>\n",
       "      <td>NaN</td>\n",
       "      <td>NaN</td>\n",
       "    </tr>\n",
       "    <tr>\n",
       "      <th>1</th>\n",
       "      <td>&lt;geoprocessing describe geometry object object...</td>\n",
       "      <td>202245681.0</td>\n",
       "      <td>20224568154010</td>\n",
       "      <td>5401.0</td>\n",
       "      <td>0.0</td>\n",
       "      <td>TRAF - ACCIDENT - HIT &amp; RUN</td>\n",
       "      <td>2022-01-27 15:00:00</td>\n",
       "      <td>2022-01-27 15:00:00</td>\n",
       "      <td>2022-01-28 10:44:00.000000</td>\n",
       "      <td>4200 E BRUCE RANDOLPH AVE</td>\n",
       "      <td>...</td>\n",
       "      <td>OTHER</td>\n",
       "      <td>OTHER</td>\n",
       "      <td>0.0</td>\n",
       "      <td>0.0</td>\n",
       "      <td>OTHER</td>\n",
       "      <td>OTHER</td>\n",
       "      <td>OTHER</td>\n",
       "      <td>OTHER</td>\n",
       "      <td>NaN</td>\n",
       "      <td>NaN</td>\n",
       "    </tr>\n",
       "    <tr>\n",
       "      <th>2</th>\n",
       "      <td>&lt;geoprocessing describe geometry object object...</td>\n",
       "      <td>202238410.0</td>\n",
       "      <td>20223841054410</td>\n",
       "      <td>5441.0</td>\n",
       "      <td>0.0</td>\n",
       "      <td>TRAF - ACCIDENT</td>\n",
       "      <td>2022-01-24 07:56:00</td>\n",
       "      <td>2022-01-24 07:56:00</td>\n",
       "      <td>2022-01-24 08:38:00.000000</td>\n",
       "      <td>7900 BLOCK W LAYTON AVE</td>\n",
       "      <td>...</td>\n",
       "      <td>OTHER</td>\n",
       "      <td>OTHER</td>\n",
       "      <td>0.0</td>\n",
       "      <td>0.0</td>\n",
       "      <td>OTHER</td>\n",
       "      <td>OTHER</td>\n",
       "      <td>OTHER</td>\n",
       "      <td>OTHER</td>\n",
       "      <td>NaN</td>\n",
       "      <td>NaN</td>\n",
       "    </tr>\n",
       "    <tr>\n",
       "      <th>3</th>\n",
       "      <td>&lt;geoprocessing describe geometry object object...</td>\n",
       "      <td>202238474.0</td>\n",
       "      <td>20223847454410</td>\n",
       "      <td>5441.0</td>\n",
       "      <td>0.0</td>\n",
       "      <td>TRAF - ACCIDENT</td>\n",
       "      <td>2022-01-24 08:30:00</td>\n",
       "      <td>2022-01-24 08:30:00</td>\n",
       "      <td>2022-01-24 09:14:00.000000</td>\n",
       "      <td>I70 HWYEB / N FEDERAL BLVD</td>\n",
       "      <td>...</td>\n",
       "      <td>OTHER</td>\n",
       "      <td>OTHER</td>\n",
       "      <td>0.0</td>\n",
       "      <td>0.0</td>\n",
       "      <td>OTHER</td>\n",
       "      <td>OTHER</td>\n",
       "      <td>OTHER</td>\n",
       "      <td>OTHER</td>\n",
       "      <td>NaN</td>\n",
       "      <td>NaN</td>\n",
       "    </tr>\n",
       "    <tr>\n",
       "      <th>4</th>\n",
       "      <td>&lt;geoprocessing describe geometry object object...</td>\n",
       "      <td>202238536.0</td>\n",
       "      <td>20223853654010</td>\n",
       "      <td>5401.0</td>\n",
       "      <td>0.0</td>\n",
       "      <td>TRAF - ACCIDENT - HIT &amp; RUN</td>\n",
       "      <td>2022-01-24 09:19:00</td>\n",
       "      <td>2022-01-24 09:19:00</td>\n",
       "      <td>2022-01-24 09:56:00.000001</td>\n",
       "      <td>1001 S PLATTE RIVER DR</td>\n",
       "      <td>...</td>\n",
       "      <td>OTHER</td>\n",
       "      <td>OTHER</td>\n",
       "      <td>0.0</td>\n",
       "      <td>0.0</td>\n",
       "      <td>OTHER</td>\n",
       "      <td>OTHER</td>\n",
       "      <td>OTHER</td>\n",
       "      <td>OTHER</td>\n",
       "      <td>NaN</td>\n",
       "      <td>NaN</td>\n",
       "    </tr>\n",
       "  </tbody>\n",
       "</table>\n",
       "<p>5 rows × 47 columns</p>\n",
       "</div>"
      ],
      "text/plain": [
       "                                               shape  incident_id  \\\n",
       "0  <geoprocessing describe geometry object object...  202215079.0   \n",
       "1  <geoprocessing describe geometry object object...  202245681.0   \n",
       "2  <geoprocessing describe geometry object object...  202238410.0   \n",
       "3  <geoprocessing describe geometry object object...  202238474.0   \n",
       "4  <geoprocessing describe geometry object object...  202238536.0   \n",
       "\n",
       "       offense_id  offense_code  offense_code_extension  \\\n",
       "0  20221507954410        5441.0                     0.0   \n",
       "1  20224568154010        5401.0                     0.0   \n",
       "2  20223841054410        5441.0                     0.0   \n",
       "3  20223847454410        5441.0                     0.0   \n",
       "4  20223853654010        5401.0                     0.0   \n",
       "\n",
       "     top_traffic_accident_offense first_occurrence_date last_occurrence_date  \\\n",
       "0  TRAF - ACCIDENT                  2022-01-10 17:00:00  2022-01-10 17:00:00   \n",
       "1  TRAF - ACCIDENT - HIT & RUN      2022-01-27 15:00:00  2022-01-27 15:00:00   \n",
       "2  TRAF - ACCIDENT                  2022-01-24 07:56:00  2022-01-24 07:56:00   \n",
       "3  TRAF - ACCIDENT                  2022-01-24 08:30:00  2022-01-24 08:30:00   \n",
       "4  TRAF - ACCIDENT - HIT & RUN      2022-01-24 09:19:00  2022-01-24 09:19:00   \n",
       "\n",
       "               reported_date            incident_address  ...  \\\n",
       "0 2022-01-10 17:02:00.000000       8800 BLOCK E MLK BLVD  ...   \n",
       "1 2022-01-28 10:44:00.000000   4200 E BRUCE RANDOLPH AVE  ...   \n",
       "2 2022-01-24 08:38:00.000000     7900 BLOCK W LAYTON AVE  ...   \n",
       "3 2022-01-24 09:14:00.000000  I70 HWYEB / N FEDERAL BLVD  ...   \n",
       "4 2022-01-24 09:56:00.000001      1001 S PLATTE RIVER DR  ...   \n",
       "\n",
       "   TU2_DRIVER_HUMANCONTRIBFACTOR  TU2_PEDESTRIAN_ACTION  SERIOUSLY_INJURED  \\\n",
       "0                          OTHER                  OTHER                0.0   \n",
       "1                          OTHER                  OTHER                0.0   \n",
       "2                          OTHER                  OTHER                0.0   \n",
       "3                          OTHER                  OTHER                0.0   \n",
       "4                          OTHER                  OTHER                0.0   \n",
       "\n",
       "   FATALITIES FATALITY_MODE_1  FATALITY_MODE_2 SERIOUSLY_INJURED_MODE_1  \\\n",
       "0         0.0           OTHER            OTHER                    OTHER   \n",
       "1         0.0           OTHER            OTHER                    OTHER   \n",
       "2         0.0           OTHER            OTHER                    OTHER   \n",
       "3         0.0           OTHER            OTHER                    OTHER   \n",
       "4         0.0           OTHER            OTHER                    OTHER   \n",
       "\n",
       "   SERIOUSLY_INJURED_MODE_2  POINT_X POINT_Y  \n",
       "0                     OTHER      NaN     NaN  \n",
       "1                     OTHER      NaN     NaN  \n",
       "2                     OTHER      NaN     NaN  \n",
       "3                     OTHER      NaN     NaN  \n",
       "4                     OTHER      NaN     NaN  \n",
       "\n",
       "[5 rows x 47 columns]"
      ]
     },
     "execution_count": 8,
     "metadata": {},
     "output_type": "execute_result"
    }
   ],
   "source": [
    "df.head()"
   ]
  },
  {
   "cell_type": "code",
   "execution_count": 17,
   "id": "75da1885",
   "metadata": {},
   "outputs": [
    {
     "data": {
      "text/plain": [
       "0.0    208753\n",
       "1.0       458\n",
       "2.0        20\n",
       "3.0         1\n",
       "Name: FATALITIES, dtype: int64"
      ]
     },
     "execution_count": 17,
     "metadata": {},
     "output_type": "execute_result"
    }
   ],
   "source": [
    "df['FATALITIES'].value_counts()"
   ]
  },
  {
   "cell_type": "code",
   "execution_count": 9,
   "id": "baf9bfab",
   "metadata": {},
   "outputs": [
    {
     "data": {
      "text/plain": [
       "<AxesSubplot:xlabel='count', ylabel='top_traffic_accident_offense'>"
      ]
     },
     "execution_count": 9,
     "metadata": {},
     "output_type": "execute_result"
    },
    {
     "data": {
      "image/png": "[encoded data removed]",
      "text/plain": [
       "<Figure size 432x288 with 1 Axes>"
      ]
     },
     "metadata": {
      "needs_background": "light"
     },
     "output_type": "display_data"
    }
   ],
   "source": [
    "sns.countplot(y = 'top_traffic_accident_offense',data = df, palette='viridis')"
   ]
  },
  {
   "cell_type": "code",
   "execution_count": 10,
   "id": "334c4341",
   "metadata": {},
   "outputs": [
    {
     "data": {
      "text/plain": [
       "Timestamp('2022-01-10 17:02:00')"
      ]
     },
     "execution_count": 10,
     "metadata": {},
     "output_type": "execute_result"
    }
   ],
   "source": [
    "df['reported_date'].iloc[0]"
   ]
  },
  {
   "cell_type": "code",
   "execution_count": 11,
   "id": "a081f1f3",
   "metadata": {},
   "outputs": [],
   "source": [
    "time = df['reported_date'].iloc[0]\n",
    "df['Hour'] = df['reported_date'].apply(lambda time:time.hour)\n",
    "df['Month'] = df['reported_date'].apply(lambda time: time.month)\n",
    "df['Day of Week'] = df['reported_date'].apply(lambda time: time.dayofweek)"
   ]
  },
  {
   "cell_type": "code",
   "execution_count": 12,
   "id": "addee5b0",
   "metadata": {},
   "outputs": [],
   "source": [
    "dmap={0:'Mon',1:'Tue',2:'Wed',3:'Thu',4:'Fri',5:'Sat',6:'Sun'}\n",
    "df['Day of Week']= df['Day of Week'].map(dmap)"
   ]
  },
  {
   "cell_type": "code",
   "execution_count": 13,
   "id": "7f765700",
   "metadata": {},
   "outputs": [
    {
     "data": {
      "text/plain": [
       "<AxesSubplot:xlabel='Day of Week', ylabel='count'>"
      ]
     },
     "execution_count": 13,
     "metadata": {},
     "output_type": "execute_result"
    },
    {
     "data": {
      "image/png": "[encoded data removed]",
      "text/plain": [
       "<Figure size 432x288 with 1 Axes>"
      ]
     },
     "metadata": {
      "needs_background": "light"
     },
     "output_type": "display_data"
    }
   ],
   "source": [
    "sns.countplot(x='Day of Week', data = df, hue='top_traffic_accident_offense',palette='cividis')"
   ]
  },
  {
   "cell_type": "code",
   "execution_count": 14,
   "id": "bf924c9a",
   "metadata": {
    "scrolled": true
   },
   "outputs": [
    {
     "data": {
      "text/plain": [
       "<AxesSubplot:xlabel='Month', ylabel='count'>"
      ]
     },
     "execution_count": 14,
     "metadata": {},
     "output_type": "execute_result"
    },
    {
     "data": {
      "image/png": "[encoded data removed]",
      "text/plain": [
       "<Figure size 432x288 with 1 Axes>"
      ]
     },
     "metadata": {
      "needs_background": "light"
     },
     "output_type": "display_data"
    }
   ],
   "source": [
    "sns.countplot(x = 'Month', data = df, hue='top_traffic_accident_offense', palette = 'cividis')"
   ]
  },
  {
   "cell_type": "code",
   "execution_count": 20,
   "id": "f6946fdb",
   "metadata": {
    "scrolled": true
   },
   "outputs": [
    {
     "data": {
      "text/plain": [
       "<AxesSubplot:xlabel='Month', ylabel='count'>"
      ]
     },
     "execution_count": 20,
     "metadata": {},
     "output_type": "execute_result"
    },
    {
     "data": {
      "image/png": "[encoded data removed]",
      "text/plain": [
       "<Figure size 432x288 with 1 Axes>"
      ]
     },
     "metadata": {
      "needs_background": "light"
     },
     "output_type": "display_data"
    }
   ],
   "source": [
    "sns.countplot(x ='Month', data = df, hue ='FATALITIES', palette = 'cividis')"
   ]
  },
  {
   "cell_type": "code",
   "execution_count": 21,
   "id": "ee27ab26",
   "metadata": {
    "scrolled": true
   },
   "outputs": [
    {
     "data": {
      "text/plain": [
       "<AxesSubplot:xlabel='Day of Week', ylabel='count'>"
      ]
     },
     "execution_count": 21,
     "metadata": {},
     "output_type": "execute_result"
    },
    {
     "data": {
      "image/png": "[encoded data removed]",
      "text/plain": [
       "<Figure size 432x288 with 1 Axes>"
      ]
     },
     "metadata": {
      "needs_background": "light"
     },
     "output_type": "display_data"
    }
   ],
   "source": [
    "sns.countplot(x='Day of Week', data = df, hue='FATALITIES', palette = 'cividis')"
   ]
  },
  {
   "cell_type": "code",
   "execution_count": 29,
   "id": "1e5f88e3",
   "metadata": {},
   "outputs": [
    {
     "data": {
      "text/plain": [
       "<AxesSubplot:xlabel='Day of Week', ylabel='count'>"
      ]
     },
     "execution_count": 29,
     "metadata": {},
     "output_type": "execute_result"
    },
    {
     "data": {
      "image/png": "[encoded data removed]",
      "text/plain": [
       "<Figure size 432x288 with 1 Axes>"
      ]
     },
     "metadata": {
      "needs_background": "light"
     },
     "output_type": "display_data"
    }
   ],
   "source": [
    "sns.countplot(x='Day of Week',data = df, hue='SERIOUSLY_INJURED', palette = 'cividis')"
   ]
  },
  {
   "cell_type": "code",
   "execution_count": 15,
   "id": "63c4c6c0",
   "metadata": {},
   "outputs": [
    {
     "data": {
      "text/html": [
       "<div>\n",
       "<style scoped>\n",
       "    .dataframe tbody tr th:only-of-type {\n",
       "        vertical-align: middle;\n",
       "    }\n",
       "\n",
       "    .dataframe tbody tr th {\n",
       "        vertical-align: top;\n",
       "    }\n",
       "\n",
       "    .dataframe thead th {\n",
       "        text-align: right;\n",
       "    }\n",
       "</style>\n",
       "<table border=\"1\" class=\"dataframe\">\n",
       "  <thead>\n",
       "    <tr style=\"text-align: right;\">\n",
       "      <th></th>\n",
       "      <th>shape</th>\n",
       "      <th>incident_id</th>\n",
       "      <th>offense_id</th>\n",
       "      <th>offense_code</th>\n",
       "      <th>offense_code_extension</th>\n",
       "      <th>top_traffic_accident_offense</th>\n",
       "      <th>first_occurrence_date</th>\n",
       "      <th>last_occurrence_date</th>\n",
       "      <th>reported_date</th>\n",
       "      <th>incident_address</th>\n",
       "      <th>...</th>\n",
       "      <th>SERIOUSLY_INJURED</th>\n",
       "      <th>FATALITIES</th>\n",
       "      <th>FATALITY_MODE_1</th>\n",
       "      <th>FATALITY_MODE_2</th>\n",
       "      <th>SERIOUSLY_INJURED_MODE_1</th>\n",
       "      <th>SERIOUSLY_INJURED_MODE_2</th>\n",
       "      <th>POINT_X</th>\n",
       "      <th>POINT_Y</th>\n",
       "      <th>Hour</th>\n",
       "      <th>Day of Week</th>\n",
       "    </tr>\n",
       "    <tr>\n",
       "      <th>Month</th>\n",
       "      <th></th>\n",
       "      <th></th>\n",
       "      <th></th>\n",
       "      <th></th>\n",
       "      <th></th>\n",
       "      <th></th>\n",
       "      <th></th>\n",
       "      <th></th>\n",
       "      <th></th>\n",
       "      <th></th>\n",
       "      <th></th>\n",
       "      <th></th>\n",
       "      <th></th>\n",
       "      <th></th>\n",
       "      <th></th>\n",
       "      <th></th>\n",
       "      <th></th>\n",
       "      <th></th>\n",
       "      <th></th>\n",
       "      <th></th>\n",
       "      <th></th>\n",
       "    </tr>\n",
       "  </thead>\n",
       "  <tbody>\n",
       "    <tr>\n",
       "      <th>1.0</th>\n",
       "      <td>17981</td>\n",
       "      <td>18758</td>\n",
       "      <td>18758</td>\n",
       "      <td>18758</td>\n",
       "      <td>18758</td>\n",
       "      <td>18758</td>\n",
       "      <td>18758</td>\n",
       "      <td>9902</td>\n",
       "      <td>18758</td>\n",
       "      <td>18758</td>\n",
       "      <td>...</td>\n",
       "      <td>18723</td>\n",
       "      <td>18723</td>\n",
       "      <td>18758</td>\n",
       "      <td>18758</td>\n",
       "      <td>18758</td>\n",
       "      <td>18758</td>\n",
       "      <td>0</td>\n",
       "      <td>0</td>\n",
       "      <td>18758</td>\n",
       "      <td>18758</td>\n",
       "    </tr>\n",
       "    <tr>\n",
       "      <th>2.0</th>\n",
       "      <td>16860</td>\n",
       "      <td>17566</td>\n",
       "      <td>17566</td>\n",
       "      <td>17566</td>\n",
       "      <td>17566</td>\n",
       "      <td>17566</td>\n",
       "      <td>17566</td>\n",
       "      <td>10414</td>\n",
       "      <td>17566</td>\n",
       "      <td>17566</td>\n",
       "      <td>...</td>\n",
       "      <td>17511</td>\n",
       "      <td>17511</td>\n",
       "      <td>17566</td>\n",
       "      <td>17566</td>\n",
       "      <td>17566</td>\n",
       "      <td>17566</td>\n",
       "      <td>0</td>\n",
       "      <td>0</td>\n",
       "      <td>17566</td>\n",
       "      <td>17566</td>\n",
       "    </tr>\n",
       "    <tr>\n",
       "      <th>3.0</th>\n",
       "      <td>16342</td>\n",
       "      <td>17012</td>\n",
       "      <td>17012</td>\n",
       "      <td>17012</td>\n",
       "      <td>17012</td>\n",
       "      <td>17012</td>\n",
       "      <td>17012</td>\n",
       "      <td>9796</td>\n",
       "      <td>17012</td>\n",
       "      <td>17012</td>\n",
       "      <td>...</td>\n",
       "      <td>16813</td>\n",
       "      <td>16813</td>\n",
       "      <td>17012</td>\n",
       "      <td>17012</td>\n",
       "      <td>17012</td>\n",
       "      <td>17012</td>\n",
       "      <td>0</td>\n",
       "      <td>0</td>\n",
       "      <td>17012</td>\n",
       "      <td>17012</td>\n",
       "    </tr>\n",
       "    <tr>\n",
       "      <th>4.0</th>\n",
       "      <td>14849</td>\n",
       "      <td>15418</td>\n",
       "      <td>15418</td>\n",
       "      <td>15418</td>\n",
       "      <td>15418</td>\n",
       "      <td>15418</td>\n",
       "      <td>15418</td>\n",
       "      <td>8060</td>\n",
       "      <td>15418</td>\n",
       "      <td>15418</td>\n",
       "      <td>...</td>\n",
       "      <td>15394</td>\n",
       "      <td>15394</td>\n",
       "      <td>15418</td>\n",
       "      <td>15418</td>\n",
       "      <td>15418</td>\n",
       "      <td>15418</td>\n",
       "      <td>0</td>\n",
       "      <td>0</td>\n",
       "      <td>15418</td>\n",
       "      <td>15418</td>\n",
       "    </tr>\n",
       "    <tr>\n",
       "      <th>5.0</th>\n",
       "      <td>16360</td>\n",
       "      <td>16969</td>\n",
       "      <td>16969</td>\n",
       "      <td>16969</td>\n",
       "      <td>16969</td>\n",
       "      <td>16969</td>\n",
       "      <td>16969</td>\n",
       "      <td>9159</td>\n",
       "      <td>16969</td>\n",
       "      <td>16969</td>\n",
       "      <td>...</td>\n",
       "      <td>16952</td>\n",
       "      <td>16952</td>\n",
       "      <td>16969</td>\n",
       "      <td>16969</td>\n",
       "      <td>16969</td>\n",
       "      <td>16969</td>\n",
       "      <td>0</td>\n",
       "      <td>0</td>\n",
       "      <td>16969</td>\n",
       "      <td>16969</td>\n",
       "    </tr>\n",
       "  </tbody>\n",
       "</table>\n",
       "<p>5 rows × 49 columns</p>\n",
       "</div>"
      ],
      "text/plain": [
       "       shape  incident_id  offense_id  offense_code  offense_code_extension  \\\n",
       "Month                                                                         \n",
       "1.0    17981        18758       18758         18758                   18758   \n",
       "2.0    16860        17566       17566         17566                   17566   \n",
       "3.0    16342        17012       17012         17012                   17012   \n",
       "4.0    14849        15418       15418         15418                   15418   \n",
       "5.0    16360        16969       16969         16969                   16969   \n",
       "\n",
       "       top_traffic_accident_offense  first_occurrence_date  \\\n",
       "Month                                                        \n",
       "1.0                           18758                  18758   \n",
       "2.0                           17566                  17566   \n",
       "3.0                           17012                  17012   \n",
       "4.0                           15418                  15418   \n",
       "5.0                           16969                  16969   \n",
       "\n",
       "       last_occurrence_date  reported_date  incident_address  ...  \\\n",
       "Month                                                         ...   \n",
       "1.0                    9902          18758             18758  ...   \n",
       "2.0                   10414          17566             17566  ...   \n",
       "3.0                    9796          17012             17012  ...   \n",
       "4.0                    8060          15418             15418  ...   \n",
       "5.0                    9159          16969             16969  ...   \n",
       "\n",
       "       SERIOUSLY_INJURED  FATALITIES  FATALITY_MODE_1  FATALITY_MODE_2  \\\n",
       "Month                                                                    \n",
       "1.0                18723       18723            18758            18758   \n",
       "2.0                17511       17511            17566            17566   \n",
       "3.0                16813       16813            17012            17012   \n",
       "4.0                15394       15394            15418            15418   \n",
       "5.0                16952       16952            16969            16969   \n",
       "\n",
       "       SERIOUSLY_INJURED_MODE_1  SERIOUSLY_INJURED_MODE_2  POINT_X  POINT_Y  \\\n",
       "Month                                                                         \n",
       "1.0                       18758                     18758        0        0   \n",
       "2.0                       17566                     17566        0        0   \n",
       "3.0                       17012                     17012        0        0   \n",
       "4.0                       15418                     15418        0        0   \n",
       "5.0                       16969                     16969        0        0   \n",
       "\n",
       "        Hour  Day of Week  \n",
       "Month                      \n",
       "1.0    18758        18758  \n",
       "2.0    17566        17566  \n",
       "3.0    17012        17012  \n",
       "4.0    15418        15418  \n",
       "5.0    16969        16969  \n",
       "\n",
       "[5 rows x 49 columns]"
      ]
     },
     "execution_count": 15,
     "metadata": {},
     "output_type": "execute_result"
    }
   ],
   "source": [
    "byMonth=df.groupby('Month').count()\n",
    "byMonth.head()"
   ]
  },
  {
   "cell_type": "code",
   "execution_count": 18,
   "id": "8ca2e222",
   "metadata": {},
   "outputs": [
    {
     "data": {
      "text/plain": [
       "<AxesSubplot:xlabel='Month'>"
      ]
     },
     "execution_count": 18,
     "metadata": {},
     "output_type": "execute_result"
    },
    {
     "data": {
      "image/png": "[encoded data removed]",
      "text/plain": [
       "<Figure size 432x288 with 1 Axes>"
      ]
     },
     "metadata": {
      "needs_background": "light"
     },
     "output_type": "display_data"
    }
   ],
   "source": [
    "byMonth['incident_address'].plot()"
   ]
  },
  {
   "cell_type": "code",
   "execution_count": 19,
   "id": "6883eea9",
   "metadata": {},
   "outputs": [
    {
     "data": {
      "text/plain": [
       "<seaborn.axisgrid.FacetGrid at 0x7f38bfd67c10>"
      ]
     },
     "execution_count": 19,
     "metadata": {},
     "output_type": "execute_result"
    },
    {
     "data": {
      "image/png": "[encoded data removed]",
      "text/plain": [
       "<Figure size 360x360 with 1 Axes>"
      ]
     },
     "metadata": {
      "needs_background": "light"
     },
     "output_type": "display_data"
    }
   ],
   "source": [
    "sns.lmplot(x='Month', y = 'incident_address', data = byMonth.reset_index())"
   ]
  },
  {
   "cell_type": "code",
   "execution_count": 22,
   "id": "da78898e",
   "metadata": {},
   "outputs": [
    {
     "data": {
      "text/html": [
       "<div>\n",
       "<style scoped>\n",
       "    .dataframe tbody tr th:only-of-type {\n",
       "        vertical-align: middle;\n",
       "    }\n",
       "\n",
       "    .dataframe tbody tr th {\n",
       "        vertical-align: top;\n",
       "    }\n",
       "\n",
       "    .dataframe thead th {\n",
       "        text-align: right;\n",
       "    }\n",
       "</style>\n",
       "<table border=\"1\" class=\"dataframe\">\n",
       "  <thead>\n",
       "    <tr style=\"text-align: right;\">\n",
       "      <th>Hour</th>\n",
       "      <th>0.0</th>\n",
       "      <th>1.0</th>\n",
       "      <th>2.0</th>\n",
       "      <th>3.0</th>\n",
       "      <th>4.0</th>\n",
       "      <th>5.0</th>\n",
       "      <th>6.0</th>\n",
       "      <th>7.0</th>\n",
       "      <th>8.0</th>\n",
       "      <th>9.0</th>\n",
       "      <th>...</th>\n",
       "      <th>14.0</th>\n",
       "      <th>15.0</th>\n",
       "      <th>16.0</th>\n",
       "      <th>17.0</th>\n",
       "      <th>18.0</th>\n",
       "      <th>19.0</th>\n",
       "      <th>20.0</th>\n",
       "      <th>21.0</th>\n",
       "      <th>22.0</th>\n",
       "      <th>23.0</th>\n",
       "    </tr>\n",
       "    <tr>\n",
       "      <th>Day of Week</th>\n",
       "      <th></th>\n",
       "      <th></th>\n",
       "      <th></th>\n",
       "      <th></th>\n",
       "      <th></th>\n",
       "      <th></th>\n",
       "      <th></th>\n",
       "      <th></th>\n",
       "      <th></th>\n",
       "      <th></th>\n",
       "      <th></th>\n",
       "      <th></th>\n",
       "      <th></th>\n",
       "      <th></th>\n",
       "      <th></th>\n",
       "      <th></th>\n",
       "      <th></th>\n",
       "      <th></th>\n",
       "      <th></th>\n",
       "      <th></th>\n",
       "      <th></th>\n",
       "    </tr>\n",
       "  </thead>\n",
       "  <tbody>\n",
       "    <tr>\n",
       "      <th>Fri</th>\n",
       "      <td>497</td>\n",
       "      <td>398</td>\n",
       "      <td>408</td>\n",
       "      <td>297</td>\n",
       "      <td>202</td>\n",
       "      <td>254</td>\n",
       "      <td>601</td>\n",
       "      <td>1388</td>\n",
       "      <td>1986</td>\n",
       "      <td>1845</td>\n",
       "      <td>...</td>\n",
       "      <td>2129</td>\n",
       "      <td>2538</td>\n",
       "      <td>2686</td>\n",
       "      <td>2664</td>\n",
       "      <td>2289</td>\n",
       "      <td>1867</td>\n",
       "      <td>1406</td>\n",
       "      <td>1231</td>\n",
       "      <td>1290</td>\n",
       "      <td>1059</td>\n",
       "    </tr>\n",
       "    <tr>\n",
       "      <th>Mon</th>\n",
       "      <td>533</td>\n",
       "      <td>409</td>\n",
       "      <td>363</td>\n",
       "      <td>237</td>\n",
       "      <td>194</td>\n",
       "      <td>283</td>\n",
       "      <td>567</td>\n",
       "      <td>1525</td>\n",
       "      <td>1956</td>\n",
       "      <td>1888</td>\n",
       "      <td>...</td>\n",
       "      <td>1855</td>\n",
       "      <td>2228</td>\n",
       "      <td>2363</td>\n",
       "      <td>2499</td>\n",
       "      <td>2075</td>\n",
       "      <td>1399</td>\n",
       "      <td>957</td>\n",
       "      <td>747</td>\n",
       "      <td>777</td>\n",
       "      <td>487</td>\n",
       "    </tr>\n",
       "    <tr>\n",
       "      <th>Sat</th>\n",
       "      <td>815</td>\n",
       "      <td>762</td>\n",
       "      <td>885</td>\n",
       "      <td>659</td>\n",
       "      <td>400</td>\n",
       "      <td>343</td>\n",
       "      <td>285</td>\n",
       "      <td>481</td>\n",
       "      <td>640</td>\n",
       "      <td>887</td>\n",
       "      <td>...</td>\n",
       "      <td>1592</td>\n",
       "      <td>1563</td>\n",
       "      <td>1511</td>\n",
       "      <td>1567</td>\n",
       "      <td>1421</td>\n",
       "      <td>1258</td>\n",
       "      <td>1128</td>\n",
       "      <td>1078</td>\n",
       "      <td>1206</td>\n",
       "      <td>1053</td>\n",
       "    </tr>\n",
       "    <tr>\n",
       "      <th>Sun</th>\n",
       "      <td>827</td>\n",
       "      <td>825</td>\n",
       "      <td>1023</td>\n",
       "      <td>739</td>\n",
       "      <td>522</td>\n",
       "      <td>339</td>\n",
       "      <td>292</td>\n",
       "      <td>448</td>\n",
       "      <td>542</td>\n",
       "      <td>704</td>\n",
       "      <td>...</td>\n",
       "      <td>1266</td>\n",
       "      <td>1314</td>\n",
       "      <td>1183</td>\n",
       "      <td>1188</td>\n",
       "      <td>1150</td>\n",
       "      <td>1089</td>\n",
       "      <td>959</td>\n",
       "      <td>887</td>\n",
       "      <td>977</td>\n",
       "      <td>698</td>\n",
       "    </tr>\n",
       "    <tr>\n",
       "      <th>Thu</th>\n",
       "      <td>458</td>\n",
       "      <td>330</td>\n",
       "      <td>286</td>\n",
       "      <td>206</td>\n",
       "      <td>157</td>\n",
       "      <td>259</td>\n",
       "      <td>665</td>\n",
       "      <td>1668</td>\n",
       "      <td>2349</td>\n",
       "      <td>2009</td>\n",
       "      <td>...</td>\n",
       "      <td>2051</td>\n",
       "      <td>2271</td>\n",
       "      <td>2563</td>\n",
       "      <td>2691</td>\n",
       "      <td>2370</td>\n",
       "      <td>1655</td>\n",
       "      <td>1195</td>\n",
       "      <td>1015</td>\n",
       "      <td>993</td>\n",
       "      <td>685</td>\n",
       "    </tr>\n",
       "  </tbody>\n",
       "</table>\n",
       "<p>5 rows × 24 columns</p>\n",
       "</div>"
      ],
      "text/plain": [
       "Hour         0.0   1.0   2.0   3.0   4.0   5.0   6.0   7.0   8.0   9.0   ...  \\\n",
       "Day of Week                                                              ...   \n",
       "Fri           497   398   408   297   202   254   601  1388  1986  1845  ...   \n",
       "Mon           533   409   363   237   194   283   567  1525  1956  1888  ...   \n",
       "Sat           815   762   885   659   400   343   285   481   640   887  ...   \n",
       "Sun           827   825  1023   739   522   339   292   448   542   704  ...   \n",
       "Thu           458   330   286   206   157   259   665  1668  2349  2009  ...   \n",
       "\n",
       "Hour         14.0  15.0  16.0  17.0  18.0  19.0  20.0  21.0  22.0  23.0  \n",
       "Day of Week                                                              \n",
       "Fri          2129  2538  2686  2664  2289  1867  1406  1231  1290  1059  \n",
       "Mon          1855  2228  2363  2499  2075  1399   957   747   777   487  \n",
       "Sat          1592  1563  1511  1567  1421  1258  1128  1078  1206  1053  \n",
       "Sun          1266  1314  1183  1188  1150  1089   959   887   977   698  \n",
       "Thu          2051  2271  2563  2691  2370  1655  1195  1015   993   685  \n",
       "\n",
       "[5 rows x 24 columns]"
      ]
     },
     "execution_count": 22,
     "metadata": {},
     "output_type": "execute_result"
    }
   ],
   "source": [
    "dayHour = df.groupby(by=['Day of Week', 'Hour']).count()['incident_id'].unstack()\n",
    "dayHour.head()"
   ]
  },
  {
   "cell_type": "code",
   "execution_count": 23,
   "id": "96a0164e",
   "metadata": {},
   "outputs": [
    {
     "data": {
      "text/plain": [
       "<AxesSubplot:xlabel='Hour', ylabel='Day of Week'>"
      ]
     },
     "execution_count": 23,
     "metadata": {},
     "output_type": "execute_result"
    },
    {
     "data": {
      "image/png": "[encoded data removed]",
      "text/plain": [
       "<Figure size 432x288 with 2 Axes>"
      ]
     },
     "metadata": {
      "needs_background": "light"
     },
     "output_type": "display_data"
    }
   ],
   "source": [
    "sns.heatmap(dayHour, cmap='viridis')"
   ]
  },
  {
   "cell_type": "code",
   "execution_count": 24,
   "id": "8d0e5637",
   "metadata": {},
   "outputs": [
    {
     "data": {
      "text/plain": [
       "<seaborn.matrix.ClusterGrid at 0x7f38bfa27ac0>"
      ]
     },
     "execution_count": 24,
     "metadata": {},
     "output_type": "execute_result"
    },
    {
     "data": {
      "image/png": "[encoded data removed]",
      "text/plain": [
       "<Figure size 720x720 with 4 Axes>"
      ]
     },
     "metadata": {
      "needs_background": "light"
     },
     "output_type": "display_data"
    }
   ],
   "source": [
    "sns.clustermap(dayHour, cmap='viridis')"
   ]
  },
  {
   "cell_type": "code",
   "execution_count": 25,
   "id": "11444fe2",
   "metadata": {},
   "outputs": [
    {
     "data": {
      "text/html": [
       "<div>\n",
       "<style scoped>\n",
       "    .dataframe tbody tr th:only-of-type {\n",
       "        vertical-align: middle;\n",
       "    }\n",
       "\n",
       "    .dataframe tbody tr th {\n",
       "        vertical-align: top;\n",
       "    }\n",
       "\n",
       "    .dataframe thead th {\n",
       "        text-align: right;\n",
       "    }\n",
       "</style>\n",
       "<table border=\"1\" class=\"dataframe\">\n",
       "  <thead>\n",
       "    <tr style=\"text-align: right;\">\n",
       "      <th>Month</th>\n",
       "      <th>1.0</th>\n",
       "      <th>2.0</th>\n",
       "      <th>3.0</th>\n",
       "      <th>4.0</th>\n",
       "      <th>5.0</th>\n",
       "      <th>6.0</th>\n",
       "      <th>7.0</th>\n",
       "      <th>8.0</th>\n",
       "      <th>9.0</th>\n",
       "      <th>10.0</th>\n",
       "      <th>11.0</th>\n",
       "      <th>12.0</th>\n",
       "    </tr>\n",
       "    <tr>\n",
       "      <th>Day of Week</th>\n",
       "      <th></th>\n",
       "      <th></th>\n",
       "      <th></th>\n",
       "      <th></th>\n",
       "      <th></th>\n",
       "      <th></th>\n",
       "      <th></th>\n",
       "      <th></th>\n",
       "      <th></th>\n",
       "      <th></th>\n",
       "      <th></th>\n",
       "      <th></th>\n",
       "    </tr>\n",
       "  </thead>\n",
       "  <tbody>\n",
       "    <tr>\n",
       "      <th>Fri</th>\n",
       "      <td>3261</td>\n",
       "      <td>2994</td>\n",
       "      <td>2929</td>\n",
       "      <td>2572</td>\n",
       "      <td>2884</td>\n",
       "      <td>2798</td>\n",
       "      <td>2728</td>\n",
       "      <td>3042</td>\n",
       "      <td>2964</td>\n",
       "      <td>3128</td>\n",
       "      <td>2793</td>\n",
       "      <td>2804</td>\n",
       "    </tr>\n",
       "    <tr>\n",
       "      <th>Mon</th>\n",
       "      <td>2568</td>\n",
       "      <td>2512</td>\n",
       "      <td>2422</td>\n",
       "      <td>2273</td>\n",
       "      <td>2281</td>\n",
       "      <td>2562</td>\n",
       "      <td>2637</td>\n",
       "      <td>2739</td>\n",
       "      <td>2438</td>\n",
       "      <td>2689</td>\n",
       "      <td>2535</td>\n",
       "      <td>2657</td>\n",
       "    </tr>\n",
       "    <tr>\n",
       "      <th>Sat</th>\n",
       "      <td>2076</td>\n",
       "      <td>2085</td>\n",
       "      <td>2144</td>\n",
       "      <td>1842</td>\n",
       "      <td>2091</td>\n",
       "      <td>2007</td>\n",
       "      <td>2075</td>\n",
       "      <td>2128</td>\n",
       "      <td>2167</td>\n",
       "      <td>2409</td>\n",
       "      <td>2061</td>\n",
       "      <td>1955</td>\n",
       "    </tr>\n",
       "    <tr>\n",
       "      <th>Sun</th>\n",
       "      <td>1864</td>\n",
       "      <td>1721</td>\n",
       "      <td>1734</td>\n",
       "      <td>1546</td>\n",
       "      <td>1696</td>\n",
       "      <td>1808</td>\n",
       "      <td>1728</td>\n",
       "      <td>1921</td>\n",
       "      <td>1955</td>\n",
       "      <td>1998</td>\n",
       "      <td>1759</td>\n",
       "      <td>1881</td>\n",
       "    </tr>\n",
       "    <tr>\n",
       "      <th>Thu</th>\n",
       "      <td>3052</td>\n",
       "      <td>2847</td>\n",
       "      <td>2706</td>\n",
       "      <td>2438</td>\n",
       "      <td>2750</td>\n",
       "      <td>2707</td>\n",
       "      <td>2732</td>\n",
       "      <td>2860</td>\n",
       "      <td>2900</td>\n",
       "      <td>3149</td>\n",
       "      <td>2536</td>\n",
       "      <td>2749</td>\n",
       "    </tr>\n",
       "  </tbody>\n",
       "</table>\n",
       "</div>"
      ],
      "text/plain": [
       "Month        1.0   2.0   3.0   4.0   5.0   6.0   7.0   8.0   9.0   10.0  11.0  \\\n",
       "Day of Week                                                                     \n",
       "Fri          3261  2994  2929  2572  2884  2798  2728  3042  2964  3128  2793   \n",
       "Mon          2568  2512  2422  2273  2281  2562  2637  2739  2438  2689  2535   \n",
       "Sat          2076  2085  2144  1842  2091  2007  2075  2128  2167  2409  2061   \n",
       "Sun          1864  1721  1734  1546  1696  1808  1728  1921  1955  1998  1759   \n",
       "Thu          3052  2847  2706  2438  2750  2707  2732  2860  2900  3149  2536   \n",
       "\n",
       "Month        12.0  \n",
       "Day of Week        \n",
       "Fri          2804  \n",
       "Mon          2657  \n",
       "Sat          1955  \n",
       "Sun          1881  \n",
       "Thu          2749  "
      ]
     },
     "execution_count": 25,
     "metadata": {},
     "output_type": "execute_result"
    }
   ],
   "source": [
    "dayMonth = df.groupby(by=['Day of Week', 'Month']).count()['incident_id'].unstack()\n",
    "dayMonth.head()"
   ]
  },
  {
   "cell_type": "code",
   "execution_count": 26,
   "id": "ab779f84",
   "metadata": {},
   "outputs": [
    {
     "data": {
      "text/plain": [
       "<AxesSubplot:xlabel='Month', ylabel='Day of Week'>"
      ]
     },
     "execution_count": 26,
     "metadata": {},
     "output_type": "execute_result"
    },
    {
     "data": {
      "image/png": "[encoded data removed]",
      "text/plain": [
       "<Figure size 432x288 with 2 Axes>"
      ]
     },
     "metadata": {
      "needs_background": "light"
     },
     "output_type": "display_data"
    }
   ],
   "source": [
    "sns.heatmap(dayMonth, cmap='viridis')"
   ]
  },
  {
   "cell_type": "code",
   "execution_count": 27,
   "id": "871c986e",
   "metadata": {},
   "outputs": [
    {
     "data": {
      "text/plain": [
       "<seaborn.matrix.ClusterGrid at 0x7f38bf82ab20>"
      ]
     },
     "execution_count": 27,
     "metadata": {},
     "output_type": "execute_result"
    },
    {
     "data": {
      "image/png": "[encoded data removed]",
      "text/plain": [
       "<Figure size 720x720 with 4 Axes>"
      ]
     },
     "metadata": {
      "needs_background": "light"
     },
     "output_type": "display_data"
    }
   ],
   "source": [
    "sns.clustermap(dayMonth, cmap='viridis')"
   ]
  },
  {
   "cell_type": "code",
   "execution_count": 32,
   "id": "c5f1d9c9",
   "metadata": {},
   "outputs": [
    {
     "data": {
      "text/html": [
       "<style type=\"text/css\">\n",
       "#T_031e4_row0_col1 {\n",
       "  background-color: #08306b;\n",
       "  color: #f1f1f1;\n",
       "}\n",
       "#T_031e4_row1_col1 {\n",
       "  background-color: #084d96;\n",
       "  color: #f1f1f1;\n",
       "}\n",
       "#T_031e4_row2_col1 {\n",
       "  background-color: #125ea6;\n",
       "  color: #f1f1f1;\n",
       "}\n",
       "#T_031e4_row3_col1 {\n",
       "  background-color: #1d6cb1;\n",
       "  color: #f1f1f1;\n",
       "}\n",
       "#T_031e4_row4_col1 {\n",
       "  background-color: #3a8ac2;\n",
       "  color: #f1f1f1;\n",
       "}\n",
       "#T_031e4_row5_col1 {\n",
       "  background-color: #c3daee;\n",
       "  color: #000000;\n",
       "}\n",
       "#T_031e4_row6_col1 {\n",
       "  background-color: #f7fbff;\n",
       "  color: #000000;\n",
       "}\n",
       "</style>\n",
       "<table id=\"T_031e4\">\n",
       "  <thead>\n",
       "    <tr>\n",
       "      <th class=\"blank level0\" >&nbsp;</th>\n",
       "      <th id=\"T_031e4_level0_col0\" class=\"col_heading level0 col0\" >index</th>\n",
       "      <th id=\"T_031e4_level0_col1\" class=\"col_heading level0 col1\" >count</th>\n",
       "    </tr>\n",
       "  </thead>\n",
       "  <tbody>\n",
       "    <tr>\n",
       "      <th id=\"T_031e4_level0_row0\" class=\"row_heading level0 row0\" >0</th>\n",
       "      <td id=\"T_031e4_row0_col0\" class=\"data row0 col0\" >Fri</td>\n",
       "      <td id=\"T_031e4_row0_col1\" class=\"data row0 col1\" >34897</td>\n",
       "    </tr>\n",
       "    <tr>\n",
       "      <th id=\"T_031e4_level0_row1\" class=\"row_heading level0 row1\" >1</th>\n",
       "      <td id=\"T_031e4_row1_col0\" class=\"data row1 col0\" >Thu</td>\n",
       "      <td id=\"T_031e4_row1_col1\" class=\"data row1 col1\" >33426</td>\n",
       "    </tr>\n",
       "    <tr>\n",
       "      <th id=\"T_031e4_level0_row2\" class=\"row_heading level0 row2\" >2</th>\n",
       "      <td id=\"T_031e4_row2_col0\" class=\"data row2 col0\" >Wed</td>\n",
       "      <td id=\"T_031e4_row2_col1\" class=\"data row2 col1\" >32561</td>\n",
       "    </tr>\n",
       "    <tr>\n",
       "      <th id=\"T_031e4_level0_row3\" class=\"row_heading level0 row3\" >3</th>\n",
       "      <td id=\"T_031e4_row3_col0\" class=\"data row3 col0\" >Tue</td>\n",
       "      <td id=\"T_031e4_row3_col1\" class=\"data row3 col1\" >31811</td>\n",
       "    </tr>\n",
       "    <tr>\n",
       "      <th id=\"T_031e4_level0_row4\" class=\"row_heading level0 row4\" >4</th>\n",
       "      <td id=\"T_031e4_row4_col0\" class=\"data row4 col0\" >Mon</td>\n",
       "      <td id=\"T_031e4_row4_col1\" class=\"data row4 col1\" >30313</td>\n",
       "    </tr>\n",
       "    <tr>\n",
       "      <th id=\"T_031e4_level0_row5\" class=\"row_heading level0 row5\" >5</th>\n",
       "      <td id=\"T_031e4_row5_col0\" class=\"data row5 col0\" >Sat</td>\n",
       "      <td id=\"T_031e4_row5_col1\" class=\"data row5 col1\" >25040</td>\n",
       "    </tr>\n",
       "    <tr>\n",
       "      <th id=\"T_031e4_level0_row6\" class=\"row_heading level0 row6\" >6</th>\n",
       "      <td id=\"T_031e4_row6_col0\" class=\"data row6 col0\" >Sun</td>\n",
       "      <td id=\"T_031e4_row6_col1\" class=\"data row6 col1\" >21611</td>\n",
       "    </tr>\n",
       "  </tbody>\n",
       "</table>\n"
      ],
      "text/plain": [
       "<pandas.io.formats.style.Styler at 0x7f38bf89a3a0>"
      ]
     },
     "execution_count": 32,
     "metadata": {},
     "output_type": "execute_result"
    }
   ],
   "source": [
    "df['Day of Week'].value_counts()\\\n",
    "                .head(20)\\\n",
    "                .to_frame(name = 'Count')\\\n",
    "                .reset_index()\\\n",
    "                .style.background_gradient(cmap='Blues', subset='count')"
   ]
  },
  {
   "cell_type": "code",
   "execution_count": 36,
   "id": "90824326",
   "metadata": {},
   "outputs": [
    {
     "data": {
      "text/html": [
       "<style type=\"text/css\">\n",
       "#T_8a32d_row0_col1 {\n",
       "  background-color: #08306b;\n",
       "  color: #f1f1f1;\n",
       "}\n",
       "#T_8a32d_row1_col1 {\n",
       "  background-color: #084488;\n",
       "  color: #f1f1f1;\n",
       "}\n",
       "#T_8a32d_row2_col1 {\n",
       "  background-color: #1e6db2;\n",
       "  color: #f1f1f1;\n",
       "}\n",
       "#T_8a32d_row3_col1 {\n",
       "  background-color: #2171b5;\n",
       "  color: #f1f1f1;\n",
       "}\n",
       "#T_8a32d_row4_col1 {\n",
       "  background-color: #4d99ca;\n",
       "  color: #f1f1f1;\n",
       "}\n",
       "#T_8a32d_row5_col1 {\n",
       "  background-color: #529dcc;\n",
       "  color: #f1f1f1;\n",
       "}\n",
       "#T_8a32d_row6_col1 {\n",
       "  background-color: #77b5d9;\n",
       "  color: #000000;\n",
       "}\n",
       "#T_8a32d_row7_col1, #T_8a32d_row8_col1 {\n",
       "  background-color: #84bcdb;\n",
       "  color: #000000;\n",
       "}\n",
       "#T_8a32d_row9_col1 {\n",
       "  background-color: #89bedc;\n",
       "  color: #000000;\n",
       "}\n",
       "#T_8a32d_row10_col1 {\n",
       "  background-color: #8abfdd;\n",
       "  color: #000000;\n",
       "}\n",
       "#T_8a32d_row11_col1 {\n",
       "  background-color: #f7fbff;\n",
       "  color: #000000;\n",
       "}\n",
       "</style>\n",
       "<table id=\"T_8a32d\">\n",
       "  <thead>\n",
       "    <tr>\n",
       "      <th class=\"blank level0\" >&nbsp;</th>\n",
       "      <th id=\"T_8a32d_level0_col0\" class=\"col_heading level0 col0\" >index</th>\n",
       "      <th id=\"T_8a32d_level0_col1\" class=\"col_heading level0 col1\" >Count</th>\n",
       "    </tr>\n",
       "  </thead>\n",
       "  <tbody>\n",
       "    <tr>\n",
       "      <th id=\"T_8a32d_level0_row0\" class=\"row_heading level0 row0\" >0</th>\n",
       "      <td id=\"T_8a32d_row0_col0\" class=\"data row0 col0\" >10.000000</td>\n",
       "      <td id=\"T_8a32d_row0_col1\" class=\"data row0 col1\" >19037</td>\n",
       "    </tr>\n",
       "    <tr>\n",
       "      <th id=\"T_8a32d_level0_row1\" class=\"row_heading level0 row1\" >1</th>\n",
       "      <td id=\"T_8a32d_row1_col0\" class=\"data row1 col0\" >1.000000</td>\n",
       "      <td id=\"T_8a32d_row1_col1\" class=\"data row1 col1\" >18758</td>\n",
       "    </tr>\n",
       "    <tr>\n",
       "      <th id=\"T_8a32d_level0_row2\" class=\"row_heading level0 row2\" >2</th>\n",
       "      <td id=\"T_8a32d_row2_col0\" class=\"data row2 col0\" >9.000000</td>\n",
       "      <td id=\"T_8a32d_row2_col1\" class=\"data row2 col1\" >18186</td>\n",
       "    </tr>\n",
       "    <tr>\n",
       "      <th id=\"T_8a32d_level0_row3\" class=\"row_heading level0 row3\" >3</th>\n",
       "      <td id=\"T_8a32d_row3_col0\" class=\"data row3 col0\" >8.000000</td>\n",
       "      <td id=\"T_8a32d_row3_col1\" class=\"data row3 col1\" >18126</td>\n",
       "    </tr>\n",
       "    <tr>\n",
       "      <th id=\"T_8a32d_level0_row4\" class=\"row_heading level0 row4\" >4</th>\n",
       "      <td id=\"T_8a32d_row4_col0\" class=\"data row4 col0\" >2.000000</td>\n",
       "      <td id=\"T_8a32d_row4_col1\" class=\"data row4 col1\" >17566</td>\n",
       "    </tr>\n",
       "    <tr>\n",
       "      <th id=\"T_8a32d_level0_row5\" class=\"row_heading level0 row5\" >5</th>\n",
       "      <td id=\"T_8a32d_row5_col0\" class=\"data row5 col0\" >7.000000</td>\n",
       "      <td id=\"T_8a32d_row5_col1\" class=\"data row5 col1\" >17508</td>\n",
       "    </tr>\n",
       "    <tr>\n",
       "      <th id=\"T_8a32d_level0_row6\" class=\"row_heading level0 row6\" >6</th>\n",
       "      <td id=\"T_8a32d_row6_col0\" class=\"data row6 col0\" >12.000000</td>\n",
       "      <td id=\"T_8a32d_row6_col1\" class=\"data row6 col1\" >17123</td>\n",
       "    </tr>\n",
       "    <tr>\n",
       "      <th id=\"T_8a32d_level0_row7\" class=\"row_heading level0 row7\" >7</th>\n",
       "      <td id=\"T_8a32d_row7_col0\" class=\"data row7 col0\" >3.000000</td>\n",
       "      <td id=\"T_8a32d_row7_col1\" class=\"data row7 col1\" >17012</td>\n",
       "    </tr>\n",
       "    <tr>\n",
       "      <th id=\"T_8a32d_level0_row8\" class=\"row_heading level0 row8\" >8</th>\n",
       "      <td id=\"T_8a32d_row8_col0\" class=\"data row8 col0\" >11.000000</td>\n",
       "      <td id=\"T_8a32d_row8_col1\" class=\"data row8 col1\" >17008</td>\n",
       "    </tr>\n",
       "    <tr>\n",
       "      <th id=\"T_8a32d_level0_row9\" class=\"row_heading level0 row9\" >9</th>\n",
       "      <td id=\"T_8a32d_row9_col0\" class=\"data row9 col0\" >5.000000</td>\n",
       "      <td id=\"T_8a32d_row9_col1\" class=\"data row9 col1\" >16969</td>\n",
       "    </tr>\n",
       "    <tr>\n",
       "      <th id=\"T_8a32d_level0_row10\" class=\"row_heading level0 row10\" >10</th>\n",
       "      <td id=\"T_8a32d_row10_col0\" class=\"data row10 col0\" >6.000000</td>\n",
       "      <td id=\"T_8a32d_row10_col1\" class=\"data row10 col1\" >16948</td>\n",
       "    </tr>\n",
       "    <tr>\n",
       "      <th id=\"T_8a32d_level0_row11\" class=\"row_heading level0 row11\" >11</th>\n",
       "      <td id=\"T_8a32d_row11_col0\" class=\"data row11 col0\" >4.000000</td>\n",
       "      <td id=\"T_8a32d_row11_col1\" class=\"data row11 col1\" >15418</td>\n",
       "    </tr>\n",
       "  </tbody>\n",
       "</table>\n"
      ],
      "text/plain": [
       "<pandas.io.formats.style.Styler at 0x7f38b20b02e0>"
      ]
     },
     "execution_count": 36,
     "metadata": {},
     "output_type": "execute_result"
    }
   ],
   "source": [
    "df['Month'].value_counts()\\\n",
    "            .head(12)\\\n",
    "            .to_frame(name = 'Count')\\\n",
    "            .reset_index()\\\n",
    "            .style.background_gradient(cmap='Blues', subset = 'Count')"
   ]
  },
  {
   "cell_type": "code",
   "execution_count": 37,
   "id": "5d882b05",
   "metadata": {},
   "outputs": [
    {
     "data": {
      "text/html": [
       "<style type=\"text/css\">\n",
       "#T_d873e_row0_col1 {\n",
       "  background-color: #08306b;\n",
       "  color: #f1f1f1;\n",
       "}\n",
       "#T_d873e_row1_col1 {\n",
       "  background-color: #8fc2de;\n",
       "  color: #000000;\n",
       "}\n",
       "#T_d873e_row2_col1 {\n",
       "  background-color: #f0f6fd;\n",
       "  color: #000000;\n",
       "}\n",
       "#T_d873e_row3_col1 {\n",
       "  background-color: #f4f9fe;\n",
       "  color: #000000;\n",
       "}\n",
       "#T_d873e_row4_col1 {\n",
       "  background-color: #f5fafe;\n",
       "  color: #000000;\n",
       "}\n",
       "#T_d873e_row5_col1 {\n",
       "  background-color: #f7fbff;\n",
       "  color: #000000;\n",
       "}\n",
       "</style>\n",
       "<table id=\"T_d873e\">\n",
       "  <thead>\n",
       "    <tr>\n",
       "      <th class=\"blank level0\" >&nbsp;</th>\n",
       "      <th id=\"T_d873e_level0_col0\" class=\"col_heading level0 col0\" >index</th>\n",
       "      <th id=\"T_d873e_level0_col1\" class=\"col_heading level0 col1\" >Count</th>\n",
       "    </tr>\n",
       "  </thead>\n",
       "  <tbody>\n",
       "    <tr>\n",
       "      <th id=\"T_d873e_level0_row0\" class=\"row_heading level0 row0\" >0</th>\n",
       "      <td id=\"T_d873e_row0_col0\" class=\"data row0 col0\" >TRAF - ACCIDENT               </td>\n",
       "      <td id=\"T_d873e_row0_col1\" class=\"data row0 col1\" >140188</td>\n",
       "    </tr>\n",
       "    <tr>\n",
       "      <th id=\"T_d873e_level0_row1\" class=\"row_heading level0 row1\" >1</th>\n",
       "      <td id=\"T_d873e_row1_col0\" class=\"data row1 col0\" >TRAF - ACCIDENT - HIT & RUN   </td>\n",
       "      <td id=\"T_d873e_row1_col1\" class=\"data row1 col1\" >58182</td>\n",
       "    </tr>\n",
       "    <tr>\n",
       "      <th id=\"T_d873e_level0_row2\" class=\"row_heading level0 row2\" >2</th>\n",
       "      <td id=\"T_d873e_row2_col0\" class=\"data row2 col0\" >TRAF - ACCIDENT - DUI/DUID    </td>\n",
       "      <td id=\"T_d873e_row2_col1\" class=\"data row2 col1\" >5818</td>\n",
       "    </tr>\n",
       "    <tr>\n",
       "      <th id=\"T_d873e_level0_row3\" class=\"row_heading level0 row3\" >3</th>\n",
       "      <td id=\"T_d873e_row3_col0\" class=\"data row3 col0\" >TRAF - ACCIDENT - SBI         </td>\n",
       "      <td id=\"T_d873e_row3_col1\" class=\"data row3 col1\" >3014</td>\n",
       "    </tr>\n",
       "    <tr>\n",
       "      <th id=\"T_d873e_level0_row4\" class=\"row_heading level0 row4\" >4</th>\n",
       "      <td id=\"T_d873e_row4_col0\" class=\"data row4 col0\" >TRAF - ACCIDENT - POLICE      </td>\n",
       "      <td id=\"T_d873e_row4_col1\" class=\"data row4 col1\" >1939</td>\n",
       "    </tr>\n",
       "    <tr>\n",
       "      <th id=\"T_d873e_level0_row5\" class=\"row_heading level0 row5\" >5</th>\n",
       "      <td id=\"T_d873e_row5_col0\" class=\"data row5 col0\" >TRAF - ACCIDENT - FATAL       </td>\n",
       "      <td id=\"T_d873e_row5_col1\" class=\"data row5 col1\" >518</td>\n",
       "    </tr>\n",
       "  </tbody>\n",
       "</table>\n"
      ],
      "text/plain": [
       "<pandas.io.formats.style.Styler at 0x7f38bf82a8e0>"
      ]
     },
     "execution_count": 37,
     "metadata": {},
     "output_type": "execute_result"
    }
   ],
   "source": [
    "df['top_traffic_accident_offense'].value_counts()\\\n",
    "                                    .head(20)\\\n",
    "                                    .to_frame(name='Count')\\\n",
    "                                    .reset_index()\\\n",
    "                                    .style.background_gradient(cmap='Blues', subset = 'Count')"
   ]
  },
  {
   "cell_type": "code",
   "execution_count": null,
   "id": "ba84a081",
   "metadata": {},
   "outputs": [],
   "source": [
    "df['']"
   ]
  }
 ],
 "metadata": {
  "kernelspec": {
   "display_name": "Python 3 (ipykernel)",
   "language": "python",
   "name": "python3"
  },
  "language_info": {
   "codemirror_mode": {
    "name": "ipython",
    "version": 3
   },
   "file_extension": ".py",
   "mimetype": "text/x-python",
   "name": "python",
   "nbconvert_exporter": "python",
   "pygments_lexer": "ipython3",
   "version": "3.8.10"
  }
 },
 "nbformat": 4,
 "nbformat_minor": 5
}
